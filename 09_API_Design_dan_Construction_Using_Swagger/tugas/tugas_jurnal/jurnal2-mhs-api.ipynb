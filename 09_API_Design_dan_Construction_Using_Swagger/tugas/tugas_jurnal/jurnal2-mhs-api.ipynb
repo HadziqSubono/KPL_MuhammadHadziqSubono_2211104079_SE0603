{
 "cells": [
  {
   "cell_type": "code",
   "execution_count": null,
   "id": "f45b3d8b",
   "metadata": {},
   "outputs": [],
   "source": [
    "!pip install fastapi uvicorn nest-asyncio pyngrok\n"
   ]
  },
  {
   "cell_type": "code",
   "execution_count": null,
   "id": "9406be49",
   "metadata": {},
   "outputs": [],
   "source": [
    "\n",
    "from fastapi import FastAPI\n",
    "from pydantic import BaseModel\n",
    "from typing import List\n",
    "import nest_asyncio\n",
    "from pyngrok import ngrok, conf\n",
    "import uvicorn\n"
   ]
  },
  {
   "cell_type": "code",
   "execution_count": null,
   "id": "7d3cb532",
   "metadata": {},
   "outputs": [],
   "source": [
    "\n",
    "app = FastAPI()\n",
    "conf.get_default().auth_token = \"2wD8BSIl0AyBNX70gQjHaeFQRms_2FV6E5GH9iT7cZDVVScQq\"\n"
   ]
  },
  {
   "cell_type": "code",
   "execution_count": null,
   "id": "f7507fa4",
   "metadata": {},
   "outputs": [],
   "source": [
    "\n",
    "class Mahasiswa(BaseModel):\n",
    "    name: str\n",
    "    nim: str\n",
    "    course: List[str]\n",
    "    year: int\n"
   ]
  },
  {
   "cell_type": "code",
   "execution_count": null,
   "id": "b6eafa53",
   "metadata": {},
   "outputs": [],
   "source": [
    "\n",
    "mahasiswa_list = [\n",
    "    {\n",
    "        \"name\": \"Muhammad Hadziq Subono\",\n",
    "        \"nim\": \"1101220001\",\n",
    "        \"course\": [\"Pemrograman Web\", \"Kecerdasan Buatan\"],\n",
    "        \"year\": 2022\n",
    "    },\n",
    "    {\n",
    "        \"name\": \"Andi Setiawan\",\n",
    "        \"nim\": \"1101220002\",\n",
    "        \"course\": [\"Basis Data\", \"Jaringan Komputer\"],\n",
    "        \"year\": 2022\n",
    "    },\n",
    "    {\n",
    "        \"name\": \"Siti Nurhaliza\",\n",
    "        \"nim\": \"1101220003\",\n",
    "        \"course\": [\"Struktur Data\", \"Etika Profesi\"],\n",
    "        \"year\": 2022\n",
    "    }\n",
    "]\n"
   ]
  },
  {
   "cell_type": "code",
   "execution_count": null,
   "id": "0efde2d3",
   "metadata": {},
   "outputs": [],
   "source": [
    "\n",
    "@app.get(\"/api/Mahasiswa\")\n",
    "def get_mahasiswa():\n",
    "    return mahasiswa_list\n",
    "\n",
    "@app.get(\"/api/Mahasiswa/{id}\")\n",
    "def get_mahasiswa_by_id(id: int):\n",
    "    if 0 <= id < len(mahasiswa_list):\n",
    "        return mahasiswa_list[id]\n",
    "    return {\"error\": \"Mahasiswa tidak ditemukan\"}\n",
    "\n",
    "@app.post(\"/api/Mahasiswa\")\n",
    "def add_mahasiswa(mhs: Mahasiswa):\n",
    "    mahasiswa_list.append(mhs.dict())\n",
    "    return {\"pesan\": \"Mahasiswa berhasil ditambahkan\"}\n",
    "\n",
    "@app.delete(\"/api/Mahasiswa/{id}\")\n",
    "def delete_mahasiswa(id: int):\n",
    "    if 0 <= id < len(mahasiswa_list):\n",
    "        deleted = mahasiswa_list.pop(id)\n",
    "        return {\"pesan\": \"Mahasiswa berhasil dihapus\", \"data\": deleted}\n",
    "    return {\"error\": \"Mahasiswa tidak ditemukan\"}\n"
   ]
  },
  {
   "cell_type": "code",
   "execution_count": null,
   "id": "35a31c41",
   "metadata": {},
   "outputs": [],
   "source": [
    "\n",
    "nest_asyncio.apply()\n",
    "tunnel = ngrok.connect(8000)\n",
    "print(\"🔗 Swagger Docs:\", tunnel.public_url + \"/docs\")\n",
    "print(\"🔗 API Root:\", tunnel.public_url)\n",
    "uvicorn.run(app, port=8000)\n"
   ]
  }
 ],
 "metadata": {
  "language_info": {
   "name": "python"
  }
 },
 "nbformat": 4,
 "nbformat_minor": 5
}
